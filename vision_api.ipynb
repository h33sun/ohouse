{
 "cells": [
  {
   "cell_type": "code",
   "execution_count": 1,
   "metadata": {},
   "outputs": [],
   "source": [
    "import gcloud\n",
    "import io\n",
    "import PIL\n",
    "import os"
   ]
  },
  {
   "cell_type": "code",
   "execution_count": 2,
   "metadata": {},
   "outputs": [],
   "source": [
    "from google.cloud import vision\n",
    "from google.cloud.vision import types"
   ]
  },
  {
   "cell_type": "code",
   "execution_count": 4,
   "metadata": {},
   "outputs": [],
   "source": [
    "credential_path = \"C://Users/HSS/my-project-62641-262311-3573b8c751bc.json\"\n",
    "os.environ['GOOGLE_APPLICATION_CREDENTIALS'] = credential_path\n",
    "\n",
    "client = vision.ImageAnnotatorClient()"
   ]
  },
  {
   "cell_type": "code",
   "execution_count": null,
   "metadata": {},
   "outputs": [],
   "source": [
    "os.chdir('C://Users/HSS/Documents/dev/ohouse/pics')\n",
    "p = 'C://Users/HSS/Documents/dev/ohouse/pics/'\n",
    "new_path = p + os.listdir()[0]"
   ]
  },
  {
   "cell_type": "code",
   "execution_count": 79,
   "metadata": {},
   "outputs": [],
   "source": [
    "def localize_objects(path):\n",
    "    \"\"\"Detects text in the file.\"\"\"\n",
    "\n",
    "    # Google Vision API needs byte type data to use\n",
    "    # Read an image which you want to detect as binary type\n",
    "    with io.open(path, 'rb') as image_file:\n",
    "        content = image_file.read()\n",
    "\n",
    "    # Transform byte type to Image which Google Vision API supports\n",
    "    image = types.Image(content=content)\n",
    "    objects = client.object_localization(\n",
    "        image=image).localized_object_annotations\n",
    "    \n",
    "    print('Number of objects found: {}'.format(len(objects)))\n",
    "    blank  = {}\n",
    "    i = 1\n",
    "    for object_ in objects:\n",
    "\n",
    "        print('\\n{} (confidence: {})'.format(object_.name, object_.score))\n",
    "        print('Normalized bounding polygon vertices: ')\n",
    "        \n",
    "        vertexes = []\n",
    "        for vertex in object_.bounding_poly.normalized_vertices:\n",
    "            vertexes.append((vertex.x, vertex.y))\n",
    "#             print(' - ({}, {})'.format(vertex.x, vertex.y))\n",
    "        blank[object_.name + str(i)] = vertexes\n",
    "        i+=1\n",
    "    return blank"
   ]
  },
  {
   "cell_type": "code",
   "execution_count": 80,
   "metadata": {},
   "outputs": [
    {
     "name": "stdout",
     "output_type": "stream",
     "text": [
      "Number of objects found: 3\n",
      "\n",
      "Lighting (confidence: 0.9370527863502502)\n",
      "Normalized bounding polygon vertices: \n",
      "\n",
      "Lighting (confidence: 0.9352655410766602)\n",
      "Normalized bounding polygon vertices: \n",
      "\n",
      "Lighting (confidence: 0.9286476969718933)\n",
      "Normalized bounding polygon vertices: \n"
     ]
    },
    {
     "data": {
      "text/plain": [
       "{'Lighting1': [(0.3813754618167877, 0.17480076849460602),\n",
       "  (0.628128170967102, 0.17480076849460602),\n",
       "  (0.628128170967102, 0.8598747849464417),\n",
       "  (0.3813754618167877, 0.8598747849464417)],\n",
       " 'Lighting2': [(0.648310124874115, 0.17268140614032745),\n",
       "  (0.8816238045692444, 0.17268140614032745),\n",
       "  (0.8816238045692444, 0.8615955710411072),\n",
       "  (0.648310124874115, 0.8615955710411072)],\n",
       " 'Lighting3': [(0.11145538836717606, 0.17337848246097565),\n",
       "  (0.3545405864715576, 0.17337848246097565),\n",
       "  (0.3545405864715576, 0.8561030030250549),\n",
       "  (0.11145538836717606, 0.8561030030250549)]}"
      ]
     },
     "execution_count": 80,
     "metadata": {},
     "output_type": "execute_result"
    }
   ],
   "source": [
    "result = localize_objects(new_path)\n",
    "result"
   ]
  },
  {
   "cell_type": "code",
   "execution_count": 92,
   "metadata": {},
   "outputs": [
    {
     "name": "stdout",
     "output_type": "stream",
     "text": [
      "Lighting1 \n",
      " [(0.3813754618167877, 0.17480076849460602), (0.628128170967102, 0.17480076849460602), (0.628128170967102, 0.8598747849464417), (0.3813754618167877, 0.8598747849464417)]\n",
      "\n",
      "\n",
      "Lighting2 \n",
      " [(0.648310124874115, 0.17268140614032745), (0.8816238045692444, 0.17268140614032745), (0.8816238045692444, 0.8615955710411072), (0.648310124874115, 0.8615955710411072)]\n",
      "\n",
      "\n",
      "Lighting3 \n",
      " [(0.11145538836717606, 0.17337848246097565), (0.3545405864715576, 0.17337848246097565), (0.3545405864715576, 0.8561030030250549), (0.11145538836717606, 0.8561030030250549)]\n",
      "\n",
      "\n"
     ]
    }
   ],
   "source": [
    "for name,vertex in result.items():\n",
    "    print(name, '\\n', vertex)\n",
    "    print('\\n')"
   ]
  },
  {
   "cell_type": "code",
   "execution_count": null,
   "metadata": {},
   "outputs": [],
   "source": []
  },
  {
   "cell_type": "code",
   "execution_count": null,
   "metadata": {},
   "outputs": [],
   "source": []
  }
 ],
 "metadata": {
  "kernelspec": {
   "display_name": "Python 3",
   "language": "python",
   "name": "python3"
  },
  "language_info": {
   "codemirror_mode": {
    "name": "ipython",
    "version": 3
   },
   "file_extension": ".py",
   "mimetype": "text/x-python",
   "name": "python",
   "nbconvert_exporter": "python",
   "pygments_lexer": "ipython3",
   "version": "3.7.6"
  }
 },
 "nbformat": 4,
 "nbformat_minor": 2
}
